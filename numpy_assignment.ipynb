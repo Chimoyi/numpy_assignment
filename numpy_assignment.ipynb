{
 "cells": [
  {
   "cell_type": "code",
   "execution_count": 2,
   "id": "d3045a38",
   "metadata": {},
   "outputs": [],
   "source": [
    "import numpy as np\n",
    "\n",
    "# Dataset values\n",
    "\n",
    "heights = np.array([160, 155, 172, 165, 180, 158, 175, 163, 171, 168])"
   ]
  },
  {
   "cell_type": "markdown",
   "id": "f0b8cc9f",
   "metadata": {},
   "source": [
    "#Calculate the mean, median, and standard deviation of the students' heights.\n",
    "\n"
   ]
  },
  {
   "cell_type": "code",
   "execution_count": 3,
   "id": "a88f3444",
   "metadata": {},
   "outputs": [
    {
     "name": "stdout",
     "output_type": "stream",
     "text": [
      "166.7\n",
      "166.5\n",
      "7.5372408744845085\n"
     ]
    }
   ],
   "source": [
    "mean_h = np.mean(heights)\n",
    "median_h = np.median(heights)\n",
    "stddev_h = np.std(heights)\n",
    "\n",
    "print(mean_h)\n",
    "print(median_h)\n",
    "print(stddev_h)"
   ]
  },
  {
   "cell_type": "markdown",
   "id": "bcf1f938",
   "metadata": {},
   "source": [
    "Create a new array with the heights normalized, i.e., each height value should be transformed to have a mean of 0 and a standard deviation of 1."
   ]
  },
  {
   "cell_type": "code",
   "execution_count": 5,
   "id": "ebaf3d10",
   "metadata": {},
   "outputs": [
    {
     "name": "stdout",
     "output_type": "stream",
     "text": [
      "[-0.88891945 -1.55229217  0.70317509 -0.22554673  1.76457144 -1.15426854\n",
      "  1.10119872 -0.49089581  0.57050054  0.17247691]\n"
     ]
    }
   ],
   "source": [
    "normalized_heights = (heights - mean_h) / stddev_h\n",
    "print(normalized_heights)"
   ]
  },
  {
   "cell_type": "markdown",
   "id": "bd14f0ef",
   "metadata": {},
   "source": [
    "Determine the tallest and shortest students in the class using NumPy's argmax and argmin functions.(This prints the index of the tallest and shortest students)"
   ]
  },
  {
   "cell_type": "code",
   "execution_count": 7,
   "id": "cc4e6023",
   "metadata": {},
   "outputs": [
    {
     "name": "stdout",
     "output_type": "stream",
     "text": [
      "4\n",
      "1\n"
     ]
    }
   ],
   "source": [
    "tall = np.argmax(heights)\n",
    "short = np.argmin(heights)\n",
    "print(tall)\n",
    "print(short)"
   ]
  },
  {
   "cell_type": "markdown",
   "id": "ddd9122c",
   "metadata": {},
   "source": [
    "Calculate the difference between the tallest and shortest students' heights."
   ]
  },
  {
   "cell_type": "code",
   "execution_count": 9,
   "id": "206c3731",
   "metadata": {},
   "outputs": [
    {
     "name": "stdout",
     "output_type": "stream",
     "text": [
      "25\n"
     ]
    }
   ],
   "source": [
    "diff = heights[tall]- heights[short]\n",
    "print(diff)"
   ]
  },
  {
   "cell_type": "markdown",
   "id": "f8420c8d",
   "metadata": {},
   "source": [
    "Randomly select 5 heights from the dataset without replacement."
   ]
  },
  {
   "cell_type": "code",
   "execution_count": 10,
   "id": "f382d4f7",
   "metadata": {},
   "outputs": [
    {
     "name": "stdout",
     "output_type": "stream",
     "text": [
      "Sample without replacement: [172 158 180 155 175]\n"
     ]
    }
   ],
   "source": [
    "sample_no_replacement = np.random.choice(heights, 5, replace=False)\n",
    "print(\"Sample without replacement:\", sample_no_replacement)"
   ]
  },
  {
   "cell_type": "code",
   "execution_count": null,
   "id": "19cda5f0",
   "metadata": {},
   "outputs": [],
   "source": []
  },
  {
   "cell_type": "code",
   "execution_count": null,
   "id": "bddf4e34",
   "metadata": {},
   "outputs": [],
   "source": []
  },
  {
   "cell_type": "code",
   "execution_count": null,
   "id": "99b672a6",
   "metadata": {},
   "outputs": [],
   "source": []
  },
  {
   "cell_type": "code",
   "execution_count": null,
   "id": "6b499f9f",
   "metadata": {},
   "outputs": [],
   "source": []
  },
  {
   "cell_type": "code",
   "execution_count": null,
   "id": "99f6f024",
   "metadata": {},
   "outputs": [],
   "source": []
  },
  {
   "cell_type": "code",
   "execution_count": null,
   "id": "eef04629",
   "metadata": {},
   "outputs": [],
   "source": []
  }
 ],
 "metadata": {
  "kernelspec": {
   "display_name": "Python 3 (ipykernel)",
   "language": "python",
   "name": "python3"
  },
  "language_info": {
   "codemirror_mode": {
    "name": "ipython",
    "version": 3
   },
   "file_extension": ".py",
   "mimetype": "text/x-python",
   "name": "python",
   "nbconvert_exporter": "python",
   "pygments_lexer": "ipython3",
   "version": "3.11.4"
  }
 },
 "nbformat": 4,
 "nbformat_minor": 5
}
